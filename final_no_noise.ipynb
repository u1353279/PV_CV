{
 "cells": [
  {
   "cell_type": "code",
   "execution_count": 2,
   "metadata": {},
   "outputs": [
    {
     "data": {
      "text/html": [
       "<div>\n",
       "<style scoped>\n",
       "    .dataframe tbody tr th:only-of-type {\n",
       "        vertical-align: middle;\n",
       "    }\n",
       "\n",
       "    .dataframe tbody tr th {\n",
       "        vertical-align: top;\n",
       "    }\n",
       "\n",
       "    .dataframe thead th {\n",
       "        text-align: right;\n",
       "    }\n",
       "</style>\n",
       "<table border=\"1\" class=\"dataframe\">\n",
       "  <thead>\n",
       "    <tr style=\"text-align: right;\">\n",
       "      <th></th>\n",
       "      <th>r_new</th>\n",
       "      <th>cluster</th>\n",
       "    </tr>\n",
       "  </thead>\n",
       "  <tbody>\n",
       "    <tr>\n",
       "      <th>0</th>\n",
       "      <td>0.506443</td>\n",
       "      <td>10</td>\n",
       "    </tr>\n",
       "    <tr>\n",
       "      <th>1</th>\n",
       "      <td>0.505297</td>\n",
       "      <td>10</td>\n",
       "    </tr>\n",
       "    <tr>\n",
       "      <th>2</th>\n",
       "      <td>0.504555</td>\n",
       "      <td>10</td>\n",
       "    </tr>\n",
       "    <tr>\n",
       "      <th>3</th>\n",
       "      <td>0.504149</td>\n",
       "      <td>10</td>\n",
       "    </tr>\n",
       "    <tr>\n",
       "      <th>4</th>\n",
       "      <td>0.505245</td>\n",
       "      <td>10</td>\n",
       "    </tr>\n",
       "  </tbody>\n",
       "</table>\n",
       "</div>"
      ],
      "text/plain": [
       "      r_new  cluster\n",
       "0  0.506443       10\n",
       "1  0.505297       10\n",
       "2  0.504555       10\n",
       "3  0.504149       10\n",
       "4  0.505245       10"
      ]
     },
     "execution_count": 2,
     "metadata": {},
     "output_type": "execute_result"
    }
   ],
   "source": [
    "# Compare Algorithms\n",
    "import pandas as pd\n",
    "import matplotlib.pyplot as plt\n",
    "from sklearn.model_selection import cross_val_predict,cross_val_score\n",
    "from sklearn.metrics import confusion_matrix,f1_score,precision_score,recall_score\n",
    "from sklearn.cluster import KMeans\n",
    "from sklearn.tree import DecisionTreeClassifier\n",
    "from sklearn.ensemble import RandomForestClassifier\n",
    "from sklearn.neighbors import KNeighborsClassifier\n",
    "from sklearn.discriminant_analysis import LinearDiscriminantAnalysis\n",
    "from sklearn.naive_bayes import GaussianNB\n",
    "from sklearn.svm import SVC\n",
    "from sklearn.neural_network import MLPClassifier\n",
    "# load dataset\n",
    "df=pd.read_excel('no-noise_7_points.xlsx')\n",
    "df.head()"
   ]
  },
  {
   "cell_type": "code",
   "execution_count": 3,
   "metadata": {},
   "outputs": [],
   "source": [
    "#df.drop(columns=['Unnamed: 2','Unnamed: 3'],axis=0, inplace=True)\n",
    "array = df.values\n",
    "irr=df['r_new']\n",
    "tar=df['cluster']\n",
    "x=array[:,0:]\n",
    "y=array[:,1]"
   ]
  },
  {
   "cell_type": "code",
   "execution_count": 4,
   "metadata": {},
   "outputs": [
    {
     "data": {
      "image/png": "[encoded data removed]",
      "text/plain": [
       "<Figure size 432x288 with 1 Axes>"
      ]
     },
     "metadata": {},
     "output_type": "display_data"
    }
   ],
   "source": [
    "import seaborn as sns\n",
    "sns.set_style(\"whitegrid\") \n",
    "  \n",
    "z=sns.boxplot(x = 'cluster', y = 'r_new', data = df) "
   ]
  },
  {
   "cell_type": "code",
   "execution_count": 5,
   "metadata": {},
   "outputs": [
    {
     "data": {
      "text/html": [
       "<div>\n",
       "<style scoped>\n",
       "    .dataframe tbody tr th:only-of-type {\n",
       "        vertical-align: middle;\n",
       "    }\n",
       "\n",
       "    .dataframe tbody tr th {\n",
       "        vertical-align: top;\n",
       "    }\n",
       "\n",
       "    .dataframe thead tr th {\n",
       "        text-align: left;\n",
       "    }\n",
       "\n",
       "    .dataframe thead tr:last-of-type th {\n",
       "        text-align: right;\n",
       "    }\n",
       "</style>\n",
       "<table border=\"1\" class=\"dataframe\">\n",
       "  <thead>\n",
       "    <tr>\n",
       "      <th></th>\n",
       "      <th colspan=\"8\" halign=\"left\">r_new</th>\n",
       "    </tr>\n",
       "    <tr>\n",
       "      <th></th>\n",
       "      <th>count</th>\n",
       "      <th>mean</th>\n",
       "      <th>std</th>\n",
       "      <th>min</th>\n",
       "      <th>25%</th>\n",
       "      <th>50%</th>\n",
       "      <th>75%</th>\n",
       "      <th>max</th>\n",
       "    </tr>\n",
       "    <tr>\n",
       "      <th>cluster</th>\n",
       "      <th></th>\n",
       "      <th></th>\n",
       "      <th></th>\n",
       "      <th></th>\n",
       "      <th></th>\n",
       "      <th></th>\n",
       "      <th></th>\n",
       "      <th></th>\n",
       "    </tr>\n",
       "  </thead>\n",
       "  <tbody>\n",
       "    <tr>\n",
       "      <th>1</th>\n",
       "      <td>7.0</td>\n",
       "      <td>4.543218</td>\n",
       "      <td>0.005850</td>\n",
       "      <td>4.534255</td>\n",
       "      <td>4.540112</td>\n",
       "      <td>4.544215</td>\n",
       "      <td>4.546296</td>\n",
       "      <td>4.551238</td>\n",
       "    </tr>\n",
       "    <tr>\n",
       "      <th>2</th>\n",
       "      <td>7.0</td>\n",
       "      <td>2.272438</td>\n",
       "      <td>0.002180</td>\n",
       "      <td>2.269834</td>\n",
       "      <td>2.270803</td>\n",
       "      <td>2.271822</td>\n",
       "      <td>2.274085</td>\n",
       "      <td>2.275632</td>\n",
       "    </tr>\n",
       "    <tr>\n",
       "      <th>3</th>\n",
       "      <td>7.0</td>\n",
       "      <td>1.515717</td>\n",
       "      <td>0.000564</td>\n",
       "      <td>1.514670</td>\n",
       "      <td>1.515579</td>\n",
       "      <td>1.515687</td>\n",
       "      <td>1.516007</td>\n",
       "      <td>1.516485</td>\n",
       "    </tr>\n",
       "    <tr>\n",
       "      <th>4</th>\n",
       "      <td>7.0</td>\n",
       "      <td>1.134735</td>\n",
       "      <td>0.000969</td>\n",
       "      <td>1.133869</td>\n",
       "      <td>1.134071</td>\n",
       "      <td>1.134570</td>\n",
       "      <td>1.134932</td>\n",
       "      <td>1.136700</td>\n",
       "    </tr>\n",
       "    <tr>\n",
       "      <th>5</th>\n",
       "      <td>7.0</td>\n",
       "      <td>0.909444</td>\n",
       "      <td>0.001255</td>\n",
       "      <td>0.908196</td>\n",
       "      <td>0.908587</td>\n",
       "      <td>0.909392</td>\n",
       "      <td>0.909709</td>\n",
       "      <td>0.911926</td>\n",
       "    </tr>\n",
       "    <tr>\n",
       "      <th>6</th>\n",
       "      <td>7.0</td>\n",
       "      <td>0.757344</td>\n",
       "      <td>0.001378</td>\n",
       "      <td>0.755547</td>\n",
       "      <td>0.756433</td>\n",
       "      <td>0.757492</td>\n",
       "      <td>0.758076</td>\n",
       "      <td>0.759349</td>\n",
       "    </tr>\n",
       "    <tr>\n",
       "      <th>7</th>\n",
       "      <td>7.0</td>\n",
       "      <td>0.648592</td>\n",
       "      <td>0.000774</td>\n",
       "      <td>0.647315</td>\n",
       "      <td>0.648230</td>\n",
       "      <td>0.648471</td>\n",
       "      <td>0.649228</td>\n",
       "      <td>0.649438</td>\n",
       "    </tr>\n",
       "    <tr>\n",
       "      <th>8</th>\n",
       "      <td>7.0</td>\n",
       "      <td>0.567948</td>\n",
       "      <td>0.000802</td>\n",
       "      <td>0.566349</td>\n",
       "      <td>0.567802</td>\n",
       "      <td>0.568037</td>\n",
       "      <td>0.568431</td>\n",
       "      <td>0.568788</td>\n",
       "    </tr>\n",
       "    <tr>\n",
       "      <th>9</th>\n",
       "      <td>7.0</td>\n",
       "      <td>0.454058</td>\n",
       "      <td>0.000815</td>\n",
       "      <td>0.452890</td>\n",
       "      <td>0.453569</td>\n",
       "      <td>0.453978</td>\n",
       "      <td>0.454693</td>\n",
       "      <td>0.455018</td>\n",
       "    </tr>\n",
       "    <tr>\n",
       "      <th>10</th>\n",
       "      <td>7.0</td>\n",
       "      <td>0.505471</td>\n",
       "      <td>0.000995</td>\n",
       "      <td>0.504149</td>\n",
       "      <td>0.504900</td>\n",
       "      <td>0.505297</td>\n",
       "      <td>0.506031</td>\n",
       "      <td>0.506990</td>\n",
       "    </tr>\n",
       "  </tbody>\n",
       "</table>\n",
       "</div>"
      ],
      "text/plain": [
       "        r_new                                                              \\\n",
       "        count      mean       std       min       25%       50%       75%   \n",
       "cluster                                                                     \n",
       "1         7.0  4.543218  0.005850  4.534255  4.540112  4.544215  4.546296   \n",
       "2         7.0  2.272438  0.002180  2.269834  2.270803  2.271822  2.274085   \n",
       "3         7.0  1.515717  0.000564  1.514670  1.515579  1.515687  1.516007   \n",
       "4         7.0  1.134735  0.000969  1.133869  1.134071  1.134570  1.134932   \n",
       "5         7.0  0.909444  0.001255  0.908196  0.908587  0.909392  0.909709   \n",
       "6         7.0  0.757344  0.001378  0.755547  0.756433  0.757492  0.758076   \n",
       "7         7.0  0.648592  0.000774  0.647315  0.648230  0.648471  0.649228   \n",
       "8         7.0  0.567948  0.000802  0.566349  0.567802  0.568037  0.568431   \n",
       "9         7.0  0.454058  0.000815  0.452890  0.453569  0.453978  0.454693   \n",
       "10        7.0  0.505471  0.000995  0.504149  0.504900  0.505297  0.506031   \n",
       "\n",
       "                   \n",
       "              max  \n",
       "cluster            \n",
       "1        4.551238  \n",
       "2        2.275632  \n",
       "3        1.516485  \n",
       "4        1.136700  \n",
       "5        0.911926  \n",
       "6        0.759349  \n",
       "7        0.649438  \n",
       "8        0.568788  \n",
       "9        0.455018  \n",
       "10       0.506990  "
      ]
     },
     "execution_count": 5,
     "metadata": {},
     "output_type": "execute_result"
    }
   ],
   "source": [
    "df.groupby(['cluster']).describe()"
   ]
  },
  {
   "cell_type": "markdown",
   "metadata": {},
   "source": [
    "# RF"
   ]
  },
  {
   "cell_type": "code",
   "execution_count": 7,
   "metadata": {},
   "outputs": [
    {
     "data": {
      "text/plain": [
       "1.0"
      ]
     },
     "execution_count": 7,
     "metadata": {},
     "output_type": "execute_result"
    }
   ],
   "source": [
    "rf=RandomForestClassifier()\n",
    "rf.fit(x,y)\n",
    "rf_score=cross_val_score(rf,x,y,cv=5,scoring='accuracy')\n",
    "rf_score.mean()"
   ]
  },
  {
   "cell_type": "code",
   "execution_count": null,
   "metadata": {},
   "outputs": [],
   "source": [
    "rf_ypred=cross_val_predict(rf,x,y,cv=10)"
   ]
  },
  {
   "cell_type": "code",
   "execution_count": null,
   "metadata": {},
   "outputs": [],
   "source": [
    "confusion_matrix(y,rf_ypred)"
   ]
  },
  {
   "cell_type": "code",
   "execution_count": null,
   "metadata": {},
   "outputs": [],
   "source": [
    "precision_score(y,rf_ypred,average='weighted')"
   ]
  },
  {
   "cell_type": "code",
   "execution_count": null,
   "metadata": {},
   "outputs": [],
   "source": [
    "recall_score(y,rf_ypred,average='weighted')"
   ]
  },
  {
   "cell_type": "code",
   "execution_count": null,
   "metadata": {},
   "outputs": [],
   "source": [
    "f1_score(y,rf_ypred,average='weighted')"
   ]
  },
  {
   "cell_type": "markdown",
   "metadata": {},
   "source": [
    "# CART"
   ]
  },
  {
   "cell_type": "code",
   "execution_count": null,
   "metadata": {},
   "outputs": [],
   "source": [
    "dt=DecisionTreeClassifier()\n",
    "dt.fit(x,y)\n",
    "dt_score=cross_val_score(dt,x,y,cv=10,scoring='accuracy')\n",
    "dt_score.mean()"
   ]
  },
  {
   "cell_type": "code",
   "execution_count": null,
   "metadata": {},
   "outputs": [],
   "source": [
    "dt_ypred=cross_val_predict(dt,x,y,cv=10)"
   ]
  },
  {
   "cell_type": "code",
   "execution_count": null,
   "metadata": {},
   "outputs": [],
   "source": [
    "confusion_matrix(y,dt_ypred)"
   ]
  },
  {
   "cell_type": "code",
   "execution_count": null,
   "metadata": {},
   "outputs": [],
   "source": [
    "precision_score(y,dt_ypred,average='weighted')"
   ]
  },
  {
   "cell_type": "code",
   "execution_count": null,
   "metadata": {},
   "outputs": [],
   "source": [
    "recall_score(y,dt_ypred,average='weighted')"
   ]
  },
  {
   "cell_type": "code",
   "execution_count": null,
   "metadata": {},
   "outputs": [],
   "source": [
    "f1_score(y,dt_ypred,average='weighted')"
   ]
  },
  {
   "cell_type": "markdown",
   "metadata": {},
   "source": [
    "# Naive Bayes"
   ]
  },
  {
   "cell_type": "code",
   "execution_count": null,
   "metadata": {},
   "outputs": [],
   "source": [
    "nb=GaussianNB()\n",
    "nb.fit(x,y)\n",
    "nb_score=cross_val_score(dt,x,y,cv=10,scoring='accuracy')\n",
    "nb_score.mean()"
   ]
  },
  {
   "cell_type": "code",
   "execution_count": null,
   "metadata": {},
   "outputs": [],
   "source": [
    "nb_ypred=cross_val_predict(nb,x,y,cv=10)"
   ]
  },
  {
   "cell_type": "code",
   "execution_count": null,
   "metadata": {},
   "outputs": [],
   "source": [
    "confusion_matrix(y,nb_ypred)"
   ]
  },
  {
   "cell_type": "code",
   "execution_count": null,
   "metadata": {},
   "outputs": [],
   "source": [
    "precision_score(y,nb_ypred,average='weighted')"
   ]
  },
  {
   "cell_type": "code",
   "execution_count": null,
   "metadata": {},
   "outputs": [],
   "source": [
    "recall_score(y,nb_ypred,average='weighted')"
   ]
  },
  {
   "cell_type": "code",
   "execution_count": null,
   "metadata": {},
   "outputs": [],
   "source": [
    "f1_score(y,nb_ypred,average='weighted')"
   ]
  },
  {
   "cell_type": "code",
   "execution_count": null,
   "metadata": {},
   "outputs": [],
   "source": []
  }
 ],
 "metadata": {
  "kernelspec": {
   "display_name": "Python 3",
   "language": "python",
   "name": "python3"
  },
  "language_info": {
   "codemirror_mode": {
    "name": "ipython",
    "version": 3
   },
   "file_extension": ".py",
   "mimetype": "text/x-python",
   "name": "python",
   "nbconvert_exporter": "python",
   "pygments_lexer": "ipython3",
   "version": "3.8.3"
  }
 },
 "nbformat": 4,
 "nbformat_minor": 2
}
